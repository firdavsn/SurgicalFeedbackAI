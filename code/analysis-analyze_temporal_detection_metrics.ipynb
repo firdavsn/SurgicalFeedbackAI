{
 "cells": [
  {
   "cell_type": "code",
   "execution_count": 34,
   "metadata": {},
   "outputs": [],
   "source": [
    "import pandas as pd"
   ]
  },
  {
   "cell_type": "code",
   "execution_count": 33,
   "metadata": {},
   "outputs": [],
   "source": [
    "def group_by_param(df, params):\n",
    "    all_cols = ['Case', 'Model Dir', 'Model Class', 'From End Threshold', 'VAD Threshold']\n",
    "    no_param_cols = [col for col in all_cols if col not in params]\n",
    "    df_copy = df.copy()\n",
    "    df_copy = df_copy.drop(columns=no_param_cols)\n",
    "    grouped_stats = df_copy.groupby(params).agg(['mean', 'std'])\n",
    "    \n",
    "    # Round to 3 decimal places\n",
    "    grouped_stats = grouped_stats.round(3)\n",
    "    \n",
    "    return grouped_stats"
   ]
  },
  {
   "cell_type": "markdown",
   "metadata": {},
   "source": [
    "# Unseen Case"
   ]
  },
  {
   "cell_type": "code",
   "execution_count": 31,
   "metadata": {},
   "outputs": [],
   "source": [
    "metrics_dir = 'results/rolling_fragments/metrics'\n",
    "\n",
    "binary_dfs = {}\n",
    "weighted_dfs = {}\n",
    "for model_type in ['text', 'audio', 'multimodal']:\n",
    "    binary_dfs[model_type] = pd.read_csv(f'{metrics_dir}/{model_type}.csv')\n",
    "    weighted_dfs[model_type] = pd.read_csv(f'{metrics_dir}/{model_type}_F1_weighted.csv')\n",
    "    \n",
    "binary_df = pd.concat(binary_dfs.values(), names=['model_type'])\n",
    "weighted_df = pd.concat(weighted_dfs.values(), names=['model_type'])\n",
    "\n",
    "binary_vad = pd.read_csv(f'{metrics_dir}/vad.csv')\n",
    "# weighted_vad = pd.read_csv(f'{metrics_dir}/vad_F1_weighted.csv')\n",
    "weighted_vad = binary_vad.copy()"
   ]
  },
  {
   "cell_type": "code",
   "execution_count": 4,
   "metadata": {},
   "outputs": [],
   "source": [
    "# best = df.copy()\n",
    "# best = best[best['Model Class'] == 'TextModel']\n",
    "# best = best[best['VAD Threshold'] == 0.3]\n",
    "# best = best[best['From End Threshold'] == 3]\n",
    "\n",
    "# # Get mean and std for each metric\n",
    "# best = best.agg({'Accuracy':['mean', 'std'], 'Precision': ['mean', 'std'], 'Recall': ['mean', 'std'], 'F1': ['mean', 'std'], 'ROC AUC': ['mean', 'std'],})\n",
    "# best = best.round(3)\n",
    "# best"
   ]
  },
  {
   "cell_type": "code",
   "execution_count": null,
   "metadata": {},
   "outputs": [],
   "source": [
    "binary_df_ = binary_df[binary_df['VAD Threshold'] == 0.3]\n",
    "binary_df_ = binary_df_[binary_df_['From End Threshold'] == 3]\n",
    "binary_df_ = binary_df_[binary_df_['Model Class'] == 'TextModel']\n",
    "binary_df_.drop(columns=['Model Class', 'Model Dir', 'VAD Threshold', 'From End Threshold'], inplace=True)\n",
    "binary_df_['F1'].mean()"
   ]
  },
  {
   "cell_type": "code",
   "execution_count": null,
   "metadata": {},
   "outputs": [],
   "source": [
    "group_by_param(binary_df_, ['Model Class'])"
   ]
  },
  {
   "cell_type": "code",
   "execution_count": null,
   "metadata": {},
   "outputs": [],
   "source": [
    "binary_df_ = binary_df[binary_df['VAD Threshold'] == 0.3]\n",
    "binary_df_ = binary_df_[binary_df_['From End Threshold'] == 0]\n",
    "\n",
    "weighted_df_ = weighted_df[weighted_df['VAD Threshold'] == 0.3]\n",
    "weighted_df_ = weighted_df_[weighted_df_['From End Threshold'] == 0]\n",
    "\n",
    "binary_df_ = group_by_param(binary_df_, ['Model Class'])\n",
    "weighted_df_ = group_by_param(weighted_df_, ['Model Class'])\n",
    "\n",
    "print(\"Binary:\")\n",
    "display(binary_df_)\n",
    "print(\"Weighted:\")\n",
    "display(weighted_df_)"
   ]
  },
  {
   "cell_type": "code",
   "execution_count": null,
   "metadata": {},
   "outputs": [],
   "source": [
    "binary_vad_ = binary_vad[binary_vad['VAD Threshold'] == 0]\n",
    "binary_vad_ = binary_vad_[binary_vad_['From End Threshold'] == 0]\n",
    "\n",
    "weighted_vad_ = weighted_vad[weighted_vad['VAD Threshold'] == 0]\n",
    "weighted_vad_ = weighted_vad_[weighted_vad_['From End Threshold'] == 0]\n",
    "\n",
    "binary_vad_ = group_by_param(binary_vad_, ['Model Class'])\n",
    "weighted_vad_ = group_by_param(weighted_vad_, ['Model Class'])\n",
    "\n",
    "print(\"Binary:\")\n",
    "display(binary_vad_)\n",
    "print(\"Weighted:\")\n",
    "display(weighted_vad_)"
   ]
  },
  {
   "cell_type": "markdown",
   "metadata": {},
   "source": [
    "# Unseen Surgeon"
   ]
  },
  {
   "cell_type": "code",
   "execution_count": null,
   "metadata": {},
   "outputs": [],
   "source": [
    "df = pd.read_csv('results/rolling_fragments/metrics/unseen_surgeon.csv')\n",
    "df.head()"
   ]
  },
  {
   "cell_type": "code",
   "execution_count": null,
   "metadata": {},
   "outputs": [],
   "source": [
    "df['Model Class'].unique()"
   ]
  },
  {
   "cell_type": "code",
   "execution_count": null,
   "metadata": {},
   "outputs": [],
   "source": [
    "group_by_param(df, ['Model Class', 'Metrics Weighting'])"
   ]
  }
 ],
 "metadata": {
  "kernelspec": {
   "display_name": ".venv2",
   "language": "python",
   "name": "python3"
  },
  "language_info": {
   "codemirror_mode": {
    "name": "ipython",
    "version": 3
   },
   "file_extension": ".py",
   "mimetype": "text/x-python",
   "name": "python",
   "nbconvert_exporter": "python",
   "pygments_lexer": "ipython3",
   "version": "3.10.12"
  }
 },
 "nbformat": 4,
 "nbformat_minor": 2
}
